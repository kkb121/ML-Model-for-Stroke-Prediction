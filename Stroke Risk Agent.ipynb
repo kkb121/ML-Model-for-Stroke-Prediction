{
 "cells": [
  {
   "cell_type": "markdown",
   "id": "1048f518-2632-4f21-9a5d-e80af02d66cb",
   "metadata": {},
   "source": [
    "# Healthcare AI Agent"
   ]
  },
  {
   "attachments": {},
   "cell_type": "markdown",
   "id": "579c78c6-4105-404e-88cb-0d158a7d4913",
   "metadata": {},
   "source": [
    "<img src=\"AIWorkflow.png\" width=\"250\" align=\"center\"/>\n",
    "<br>\n",
    "<br>\n",
    "<p>\n",
    "Healthcare AI Agent that automates:\n",
    "    <li>\n",
    "        Accepts incoming patient datasets.\n",
    "    </li>\n",
    "    <li>\n",
    "        Automates preprocessing.\n",
    "    </li>\n",
    "    <li>\n",
    "        Automatically categorises risk into Low / Medium / High\n",
    "    </li>\t\n",
    "</p>"
   ]
  },
  {
   "cell_type": "markdown",
   "id": "ef66d2e2-8f34-43e4-99a6-02b5579bceec",
   "metadata": {},
   "source": [
    "## Importing libraries"
   ]
  },
  {
   "cell_type": "code",
   "execution_count": 69,
   "id": "1e4f516d-f502-4aee-b150-402207b5e3bf",
   "metadata": {},
   "outputs": [],
   "source": [
    "import pandas as pd\n",
    "import numpy as np\n",
    "from sklearn.model_selection import train_test_split, StratifiedKFold\n",
    "from sklearn.preprocessing import LabelEncoder\n",
    "from sklearn.ensemble import GradientBoostingClassifier\n",
    "from sklearn.metrics import roc_auc_score, accuracy_score, precision_score, recall_score, f1_score, roc_curve\n",
    "import matplotlib.pyplot as plt\n",
    "from tqdm import tqdm\n"
   ]
  },
  {
   "cell_type": "markdown",
   "id": "9dbe5c90-bde2-4d39-ba8c-7285eba8774c",
   "metadata": {},
   "source": [
    "## Load Data"
   ]
  },
  {
   "cell_type": "code",
   "execution_count": 72,
   "id": "c0aa4464-abe8-4656-a468-67d2f6e2d868",
   "metadata": {},
   "outputs": [
    {
     "name": "stdout",
     "output_type": "stream",
     "text": [
      "Loading dataset...\n"
     ]
    }
   ],
   "source": [
    "print(\"Loading dataset...\")\n",
    "data = pd.read_csv(\"Dataset_raw.csv\")\n",
    "data.dropna(inplace=True)\n",
    "data['STROKE'] = data['STROKE'].apply(lambda x: 1 if x == 1 else 0)\n",
    "selected_columns = ['TOTCHOL', 'AGE', 'SYSBP', 'DIABP', 'CIGPDAY', 'BMI', 'STROKE']\n",
    "data = data[selected_columns]\n"
   ]
  },
  {
   "cell_type": "markdown",
   "id": "2cafbb20-f2a7-47b7-b9ae-c6bbafe5c14b",
   "metadata": {},
   "source": [
    "## Define Automated Preprocessing Functions"
   ]
  },
  {
   "cell_type": "code",
   "execution_count": 75,
   "id": "5ec888aa-b563-4224-9822-160ab74c4704",
   "metadata": {},
   "outputs": [],
   "source": [
    "def categorise_cholesterol(value):\n",
    "    if value < 200: return 'Normal'\n",
    "    elif 200 <= value < 240: return 'Borderline High'\n",
    "    return 'High'\n",
    "\n",
    "def categorize_bp(value):\n",
    "    if value < 120: return 'Normal'\n",
    "    elif 120 <= value < 140: return 'Elevated'\n",
    "    return 'Hypertension'\n",
    "\n",
    "def categorise_diabp(value):\n",
    "    if value <= 80: return 'Normal'\n",
    "    elif 80 < value <= 90: return 'Elevated'\n",
    "    return 'Hypertension'\n",
    "\n",
    "def categorise_bmi(value):\n",
    "    if value <= 24.9: return 'Normal Weight'\n",
    "    elif 25 <= value <= 29.9: return 'Overweight'\n",
    "    return 'Obese'\n"
   ]
  },
  {
   "cell_type": "markdown",
   "id": "cda0fc0f-e70f-4233-916c-1a94a94f96ee",
   "metadata": {},
   "source": [
    "## Initial Preprocessing"
   ]
  },
  {
   "cell_type": "code",
   "execution_count": 78,
   "id": "e53af23c-13da-4807-84ba-684433a099c7",
   "metadata": {},
   "outputs": [],
   "source": [
    "for col, func in zip(['TOTCHOL', 'SYSBP', 'DIABP', 'BMI'],\n",
    "                     [categorise_cholesterol, categorize_bp, categorise_diabp, categorise_bmi]):\n",
    "    data[col] = data[col].apply(func)\n",
    "\n",
    "categorical_columns = ['TOTCHOL', 'SYSBP', 'DIABP', 'BMI']\n",
    "label_encoders = {col: LabelEncoder() for col in categorical_columns}\n",
    "for col in categorical_columns:\n",
    "    data[col] = label_encoders[col].fit_transform(data[col])\n"
   ]
  },
  {
   "cell_type": "markdown",
   "id": "01ff4333-8a23-43be-8554-e9da1c4d78c1",
   "metadata": {},
   "source": [
    "##  Train-Test Split"
   ]
  },
  {
   "cell_type": "code",
   "execution_count": 81,
   "id": "a4bfc1ab-236c-478d-be55-4f3dbd993fd8",
   "metadata": {},
   "outputs": [],
   "source": [
    "X = data.drop(columns=['STROKE'])\n",
    "y = data['STROKE']\n",
    "X_train, X_test, y_train, y_test = train_test_split(X, y, stratify=y, test_size=0.2, random_state=42)\n"
   ]
  },
  {
   "cell_type": "markdown",
   "id": "d1e3afe4-52a9-40de-adb8-9e47003f49ff",
   "metadata": {},
   "source": [
    "## Define the AI Agent"
   ]
  },
  {
   "cell_type": "code",
   "execution_count": 84,
   "id": "fd0fa55e-6593-4516-b8e0-c5aa6a4eb9a6",
   "metadata": {},
   "outputs": [],
   "source": [
    "class StrokeRiskAgent:\n",
    "    def __init__(self, model, encoders):\n",
    "        self.model = model\n",
    "        self.encoders = encoders\n",
    "\n",
    "    def preprocess(self, df):\n",
    "        df = df.copy()\n",
    "        df['TOTCHOL'] = df['TOTCHOL'].apply(categorise_cholesterol)\n",
    "        df['SYSBP'] = df['SYSBP'].apply(categorize_bp)\n",
    "        df['DIABP'] = df['DIABP'].apply(categorise_diabp)\n",
    "        df['BMI'] = df['BMI'].apply(categorise_bmi)\n",
    "        for col in categorical_columns:\n",
    "            df[col] = self.encoders[col].transform(df[col])\n",
    "        return df\n",
    "\n",
    "    def predict(self, df):\n",
    "        print(\"\\n[INFO] Processing new patient data...\")\n",
    "        df = self.preprocess(df)\n",
    "        risk_scores = self.model.predict_proba(df)[:, 1]\n",
    "        predictions = self.model.predict(df)\n",
    "        risk_category = [\"Low\" if r < 0.3 else \"Medium\" if r < 0.7 else \"High\" for r in risk_scores]\n",
    "        return pd.DataFrame({\n",
    "            'Stroke Risk Score': risk_scores,\n",
    "            'Risk Category': risk_category,\n",
    "            'Prediction (0=No Stroke, 1=Stroke)': predictions\n",
    "        })\n",
    "\n",
    "    def export_results(self, predictions, filename=\"risk_report.csv\"):\n",
    "        predictions.to_csv(filename, index=False)\n",
    "        print(f\"\\n[INFO] Risk report saved as {filename}\")\n"
   ]
  },
  {
   "cell_type": "markdown",
   "id": "80be4f7f-46d4-4349-93c3-bfbc40ec7b5e",
   "metadata": {},
   "source": [
    "## Training chosen ML Model: Gradient Boosting"
   ]
  },
  {
   "cell_type": "markdown",
   "id": "27d8deb9-59ba-4452-a490-fb1e1ea5a8b6",
   "metadata": {},
   "source": [
    "<img src=\"GB_image.png\" width=\"500\" align=\"center\"/>\n",
    "<br>\n",
    "<br>\n",
    "<p>\n",
    "The Gradient Boosting model works by sequentially reducing the errors of the previous models through iterations.\n",
    "</p>\n",
    "<br>\n",
    "<p>\n",
    "    Other models were tested for their accuracy and precision measures, including SVC, KNN etc These can be reviewed in the notebook called <b>Stroke Prediction<b>.\n",
    "</p>"
   ]
  },
  {
   "cell_type": "code",
   "execution_count": 88,
   "id": "06b348d3-7802-4faf-bc3a-9f4bb1503c6c",
   "metadata": {},
   "outputs": [],
   "source": [
    "gb_model = GradientBoostingClassifier(\n",
    "    learning_rate=0.05, max_depth=3, min_samples_leaf=1, min_samples_split=5, n_estimators=50, subsample=0.6, random_state=42\n",
    ")\n",
    "gb_model.fit(X_train, y_train)\n",
    "agent = StrokeRiskAgent(gb_model, label_encoders)\n"
   ]
  },
  {
   "cell_type": "code",
   "execution_count": 90,
   "id": "3a16ee19-8b2a-48b0-bfd3-58dfb7f8be72",
   "metadata": {},
   "outputs": [
    {
     "name": "stdout",
     "output_type": "stream",
     "text": [
      "\n",
      "[INFO] Evaluation on Test Set\n",
      "AUC-ROC: 0.9327777777777777\n",
      "Accuracy: 0.85\n",
      "Precision: 0.8888888888888888\n",
      "Recall: 0.8\n",
      "F1-Score: 0.8421052631578947\n"
     ]
    },
    {
     "data": {
      "image/png": "[encoded data removed]",
      "text/plain": [
       "<Figure size 640x480 with 1 Axes>"
      ]
     },
     "metadata": {},
     "output_type": "display_data"
    }
   ],
   "source": [
    "# new_patients = pd.read_csv(\"new_patients.csv\")\n",
    "# predictions = agent.predict(new_patients)\n",
    "# agent.export_results(predictions)\n",
    "\n",
    "y_pred = gb_model.predict(X_test)\n",
    "y_proba = gb_model.predict_proba(X_test)[:, 1]\n",
    "\n",
    "print(\"\\n[INFO] Evaluation on Test Set\")\n",
    "print(\"AUC-ROC:\", roc_auc_score(y_test, y_proba))\n",
    "print(\"Accuracy:\", accuracy_score(y_test, y_pred))\n",
    "print(\"Precision:\", precision_score(y_test, y_pred))\n",
    "print(\"Recall:\", recall_score(y_test, y_pred))\n",
    "print(\"F1-Score:\", f1_score(y_test, y_pred))\n",
    "\n",
    "# ROC Curve\n",
    "fpr, tpr, _ = roc_curve(y_test, y_proba)\n",
    "plt.plot(fpr, tpr, label=f\"AUC-ROC = {roc_auc_score(y_test, y_proba):.2f}\")\n",
    "plt.plot([0,1], [0,1], linestyle='--')\n",
    "plt.title('ROC Curve')\n",
    "plt.legend()\n",
    "plt.show()"
   ]
  }
 ],
 "metadata": {
  "kernelspec": {
   "display_name": "Python 3 (ipykernel)",
   "language": "python",
   "name": "python3"
  },
  "language_info": {
   "codemirror_mode": {
    "name": "ipython",
    "version": 3
   },
   "file_extension": ".py",
   "mimetype": "text/x-python",
   "name": "python",
   "nbconvert_exporter": "python",
   "pygments_lexer": "ipython3",
   "version": "3.12.4"
  }
 },
 "nbformat": 4,
 "nbformat_minor": 5
}
